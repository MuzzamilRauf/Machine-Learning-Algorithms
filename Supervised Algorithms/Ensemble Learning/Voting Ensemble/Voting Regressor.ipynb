{
 "cells": [
  {
   "cell_type": "code",
   "execution_count": 11,
   "id": "23d6a17d",
   "metadata": {},
   "outputs": [],
   "source": [
    "import numpy as np \n",
    "import pandas as pd\n",
    "import seaborn as sns\n",
    "import matplotlib.pyplot as plt\n",
    "from sklearn.datasets import make_regression\n",
    "from sklearn.metrics import r2_score"
   ]
  },
  {
   "cell_type": "code",
   "execution_count": 2,
   "id": "af403bcc",
   "metadata": {},
   "outputs": [],
   "source": [
    "X,y = make_regression(n_samples=200, n_features=10, n_informative=2, n_targets=1 , noise=50, random_state=4)"
   ]
  },
  {
   "cell_type": "code",
   "execution_count": 3,
   "id": "46796ace",
   "metadata": {},
   "outputs": [
    {
     "data": {
      "text/plain": [
       "(200, 10)"
      ]
     },
     "execution_count": 3,
     "metadata": {},
     "output_type": "execute_result"
    }
   ],
   "source": [
    "X.shape"
   ]
  },
  {
   "cell_type": "code",
   "execution_count": 4,
   "id": "5cfffe1c",
   "metadata": {},
   "outputs": [
    {
     "data": {
      "text/plain": [
       "<matplotlib.collections.PathCollection at 0x1b054a08810>"
      ]
     },
     "execution_count": 4,
     "metadata": {},
     "output_type": "execute_result"
    },
    {
     "data": {
      "image/png": "[encoded data removed]",
      "text/plain": [
       "<Figure size 640x480 with 1 Axes>"
      ]
     },
     "metadata": {},
     "output_type": "display_data"
    }
   ],
   "source": [
    "plt.scatter(X[:,1],y)"
   ]
  },
  {
   "cell_type": "code",
   "execution_count": 5,
   "id": "6290ecb8",
   "metadata": {},
   "outputs": [],
   "source": [
    "from sklearn.linear_model import LinearRegression\n",
    "from sklearn.tree import DecisionTreeRegressor\n",
    "from sklearn.svm import SVR\n",
    "from sklearn.model_selection import cross_val_score"
   ]
  },
  {
   "cell_type": "code",
   "execution_count": 6,
   "id": "296d3401",
   "metadata": {},
   "outputs": [],
   "source": [
    "lr = LinearRegression()\n",
    "dt = DecisionTreeRegressor()\n",
    "svr = SVR()"
   ]
  },
  {
   "cell_type": "code",
   "execution_count": 7,
   "id": "488ecded",
   "metadata": {},
   "outputs": [],
   "source": [
    "estimators = [('lr',lr),('dt',dt),('svr',svr)]"
   ]
  },
  {
   "cell_type": "code",
   "execution_count": 13,
   "id": "c588d809",
   "metadata": {},
   "outputs": [
    {
     "name": "stdout",
     "output_type": "stream",
     "text": [
      "lr 0.49\n",
      "dt -0.07\n",
      "svr 0.01\n"
     ]
    }
   ],
   "source": [
    "for estimator in estimators:\n",
    "    x = cross_val_score(estimator[1],X,y,cv=10,scoring='r2')\n",
    "    print(estimator[0],np.round(np.mean(x),2))"
   ]
  },
  {
   "cell_type": "code",
   "execution_count": 14,
   "id": "9fba06ae",
   "metadata": {},
   "outputs": [],
   "source": [
    "from sklearn.ensemble import VotingRegressor"
   ]
  },
  {
   "cell_type": "code",
   "execution_count": 15,
   "id": "019c4b70",
   "metadata": {},
   "outputs": [
    {
     "name": "stdout",
     "output_type": "stream",
     "text": [
      "Voting Regressor:  0.39\n"
     ]
    }
   ],
   "source": [
    "vr = VotingRegressor(estimators=estimators)\n",
    "x = cross_val_score(vr,X,y,cv=10,scoring='r2')\n",
    "print('Voting Regressor: ',np.round(np.mean(x),2))"
   ]
  },
  {
   "cell_type": "code",
   "execution_count": 19,
   "id": "b971d622",
   "metadata": {},
   "outputs": [
    {
     "name": "stdout",
     "output_type": "stream",
     "text": [
      "for i=1, j=1,k=1 0.38\n",
      "for i=1, j=1,k=2 0.34\n",
      "for i=1, j=1,k=3 0.31\n",
      "for i=1, j=2,k=1 0.34\n",
      "for i=1, j=2,k=2 0.31\n",
      "for i=1, j=2,k=3 0.31\n",
      "for i=1, j=3,k=1 0.29\n",
      "for i=1, j=3,k=2 0.29\n",
      "for i=1, j=3,k=3 0.29\n",
      "for i=2, j=1,k=1 0.43\n",
      "for i=2, j=1,k=2 0.4\n",
      "for i=2, j=1,k=3 0.36\n",
      "for i=2, j=2,k=1 0.39\n",
      "for i=2, j=2,k=2 0.4\n",
      "for i=2, j=2,k=3 0.36\n",
      "for i=2, j=3,k=1 0.37\n",
      "for i=2, j=3,k=2 0.33\n",
      "for i=2, j=3,k=3 0.35\n",
      "for i=3, j=1,k=1 0.46\n",
      "for i=3, j=1,k=2 0.43\n",
      "for i=3, j=1,k=3 0.4\n",
      "for i=3, j=2,k=1 0.42\n",
      "for i=3, j=2,k=2 0.39\n",
      "for i=3, j=2,k=3 0.4\n",
      "for i=3, j=3,k=1 0.36\n",
      "for i=3, j=3,k=2 0.38\n",
      "for i=3, j=3,k=3 0.37\n"
     ]
    }
   ],
   "source": [
    "for i in range(1,4):\n",
    "    for j in range(1,4):\n",
    "        for k in range(1,4):\n",
    "            vr = VotingRegressor(estimators=estimators,weights=[i,j,k])\n",
    "            x = cross_val_score(vr,X,y,cv=10,scoring='r2')\n",
    "            print('for i={}, j={},k={}'.format(i,j,k),np.round(np.mean(x),2))\n"
   ]
  },
  {
   "cell_type": "code",
   "execution_count": 22,
   "id": "e6568389",
   "metadata": {},
   "outputs": [],
   "source": [
    "dt1 = DecisionTreeRegressor(max_depth=1)\n",
    "dt2 = DecisionTreeRegressor(max_depth=3)\n",
    "dt3 = DecisionTreeRegressor(max_depth=5)\n",
    "dt4 = DecisionTreeRegressor(max_depth=7)\n",
    "dt5 = DecisionTreeRegressor(max_depth=None)"
   ]
  },
  {
   "cell_type": "code",
   "execution_count": 27,
   "id": "85ec76cb",
   "metadata": {},
   "outputs": [],
   "source": [
    "estimators1 = [('dt1',dt1),('dt2',dt2),('dt3',dt3),('dt4',dt4),('dt5',dt5)]"
   ]
  },
  {
   "cell_type": "code",
   "execution_count": 28,
   "id": "39d3926a",
   "metadata": {},
   "outputs": [
    {
     "name": "stdout",
     "output_type": "stream",
     "text": [
      "dt1 0.34\n",
      "dt2 0.42\n",
      "dt3 0.12\n",
      "dt4 0.01\n",
      "dt5 -0.03\n"
     ]
    }
   ],
   "source": [
    "for estimator in estimators1:\n",
    "    x = cross_val_score(estimator[1],X,y,cv=10,scoring='r2')\n",
    "    print(estimator[0],np.round(np.mean(x),2))"
   ]
  },
  {
   "cell_type": "code",
   "execution_count": 29,
   "id": "46a7a7cf",
   "metadata": {},
   "outputs": [
    {
     "name": "stdout",
     "output_type": "stream",
     "text": [
      "0.34\n"
     ]
    }
   ],
   "source": [
    "vr = VotingRegressor(estimators=estimators1)\n",
    "x = cross_val_score(vr,X,y,cv=10,scoring='r2')\n",
    "print(np.round(np.mean(x),2))"
   ]
  },
  {
   "cell_type": "code",
   "execution_count": null,
   "id": "e48145fd",
   "metadata": {},
   "outputs": [],
   "source": []
  }
 ],
 "metadata": {
  "kernelspec": {
   "display_name": "Python 3 (ipykernel)",
   "language": "python",
   "name": "python3"
  },
  "language_info": {
   "codemirror_mode": {
    "name": "ipython",
    "version": 3
   },
   "file_extension": ".py",
   "mimetype": "text/x-python",
   "name": "python",
   "nbconvert_exporter": "python",
   "pygments_lexer": "ipython3",
   "version": "3.11.5"
  }
 },
 "nbformat": 4,
 "nbformat_minor": 5
}
